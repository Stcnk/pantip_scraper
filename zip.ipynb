{
 "cells": [
  {
   "cell_type": "code",
   "execution_count": 6,
   "metadata": {},
   "outputs": [
    {
     "name": "stdout",
     "output_type": "stream",
     "text": [
      "Zipped 1000 files to zip_folder\\files_1.zip\n",
      "Zipped 1000 files to zip_folder\\files_2.zip\n",
      "Zipped 1000 files to zip_folder\\files_3.zip\n",
      "Zipped 1000 files to zip_folder\\files_4.zip\n",
      "Zipped 1000 files to zip_folder\\files_5.zip\n",
      "Zipped 1000 files to zip_folder\\files_6.zip\n",
      "Zipped 1000 files to zip_folder\\files_7.zip\n",
      "Zipped 1000 files to zip_folder\\files_8.zip\n",
      "Zipped 1000 files to zip_folder\\files_9.zip\n",
      "Zipped 1000 files to zip_folder\\files_10.zip\n",
      "Zipped 1000 files to zip_folder\\files_11.zip\n",
      "Zipped 1000 files to zip_folder\\files_12.zip\n",
      "Zipped 1000 files to zip_folder\\files_13.zip\n",
      "Zipped 1000 files to zip_folder\\files_14.zip\n",
      "Zipped 1000 files to zip_folder\\files_15.zip\n",
      "Zipped 482 files to zip_folder\\files_16.zip\n",
      "Processed all files and created zip files in zip_folder\n"
     ]
    }
   ],
   "source": [
    "import os\n",
    "import zipfile\n",
    "\n",
    "# Define the paths\n",
    "source_folder = r'restructured_data'  # Replace with the path to your source folder\n",
    "zip_folder = r'zip_folder'        # Replace with the path where you want to save the zip files\n",
    "\n",
    "# Ensure the zip folder exists\n",
    "os.makedirs(zip_folder, exist_ok=True)\n",
    "\n",
    "# Function to create zip files\n",
    "def create_zip(zip_number, file_list):\n",
    "    zip_file_path = os.path.join(zip_folder, f'files_{zip_number}.zip')\n",
    "    with zipfile.ZipFile(zip_file_path, 'w') as zipf:\n",
    "        for file_path in file_list:\n",
    "            zipf.write(file_path, os.path.basename(file_path))\n",
    "    print(f\"Zipped {len(file_list)} files to {zip_file_path}\")\n",
    "\n",
    "# Loop through all files in the source folder and create zip files containing up to 1000 files each\n",
    "file_list = []\n",
    "zip_number = 1\n",
    "for i, filename in enumerate(os.listdir(source_folder)):\n",
    "    file_path = os.path.join(source_folder, filename)\n",
    "    file_list.append(file_path)\n",
    "    \n",
    "    # Create a zip file for every 1000 files or if it’s the last file\n",
    "    if (i + 1) % 1000 == 0 or (i + 1) == len(os.listdir(source_folder)):\n",
    "        create_zip(zip_number, file_list)\n",
    "        file_list = []\n",
    "        zip_number += 1\n",
    "\n",
    "print(f\"Processed all files and created zip files in {zip_folder}\")\n"
   ]
  }
 ],
 "metadata": {
  "kernelspec": {
   "display_name": ".venv",
   "language": "python",
   "name": "python3"
  },
  "language_info": {
   "codemirror_mode": {
    "name": "ipython",
    "version": 3
   },
   "file_extension": ".py",
   "mimetype": "text/x-python",
   "name": "python",
   "nbconvert_exporter": "python",
   "pygments_lexer": "ipython3",
   "version": "3.10.9"
  }
 },
 "nbformat": 4,
 "nbformat_minor": 2
}
