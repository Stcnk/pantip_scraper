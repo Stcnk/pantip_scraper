{
 "cells": [
  {
   "cell_type": "code",
   "execution_count": null,
   "metadata": {},
   "outputs": [],
   "source": [
    "import requests\n",
    "from bs4 import BeautifulSoup\n",
    "import re\n",
    "import pandas as pd\n",
    "import os"
   ]
  },
  {
   "cell_type": "code",
   "execution_count": null,
   "metadata": {},
   "outputs": [],
   "source": [
    "file_path = r'กายภาพบำบัด - Pantip.txt'\n",
    "\n",
    "# Load HTML content from file\n",
    "with open(file_path, 'r', encoding='utf-8') as file:\n",
    "    html_content = file.read()\n",
    "\n",
    "# Parse the HTML content using BeautifulSoup\n",
    "soup = BeautifulSoup(html_content, 'html.parser')\n",
    "\n",
    "# Find all links with href containing \"/topic/\"\n",
    "links = soup.find_all('a', href=True)\n",
    "\n",
    "# Extract topic numbers\n",
    "topic_numbers = set()  # Use a set to store unique topic numbers\n",
    "for link in links:\n",
    "    href = link['href']\n",
    "    match = re.search(r'/topic/(\\d+)', href)\n",
    "    if match:\n",
    "        topic_number = match.group(1)\n",
    "        topic_numbers.add(topic_number)\n",
    "\n",
    "# Create a DataFrame from the unique topic numbers\n",
    "df = pd.DataFrame(list(topic_numbers), columns=['tid'])\n",
    "\n",
    "# Save the DataFrame to a CSV file\n",
    "df.to_csv('tids.csv', index=False)\n",
    "\n",
    "print(\"Unique topic numbers have been saved to 'pantip_topic_numbers.csv'\")\n"
   ]
  }
 ],
 "metadata": {
  "language_info": {
   "name": "python"
  }
 },
 "nbformat": 4,
 "nbformat_minor": 2
}
