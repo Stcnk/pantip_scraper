{
 "cells": [
  {
   "cell_type": "code",
   "execution_count": null,
   "metadata": {},
   "outputs": [],
   "source": [
    "import os\n",
    "import zipfile\n",
    "\n",
    "zip_folder = r'zip_folder'  \n",
    "extract_base_path = 'unzip'  \n",
    "\n",
    "os.makedirs(extract_base_path, exist_ok=True)\n",
    "\n",
    "for zip_filename in os.listdir(zip_folder):\n",
    "    if zip_filename.endswith('.zip'):\n",
    "        zip_file_path = os.path.join(zip_folder, zip_filename)\n",
    "        extract_path = os.path.join(extract_base_path, os.path.splitext(zip_filename)[0])\n",
    "\n",
    "        os.makedirs(extract_path, exist_ok=True)\n",
    "\n",
    "        with zipfile.ZipFile(zip_file_path, 'r') as zip_ref:\n",
    "            zip_ref.extractall(extract_path)\n",
    "        \n",
    "        print(f'Extraction of {zip_filename} complete to {extract_path}.')\n",
    "\n",
    "print('All extractions complete.')"
   ]
  }
 ],
 "metadata": {
  "language_info": {
   "name": "python"
  }
 },
 "nbformat": 4,
 "nbformat_minor": 2
}
