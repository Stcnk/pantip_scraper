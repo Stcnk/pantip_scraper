{
 "cells": [
  {
   "cell_type": "code",
   "execution_count": 2,
   "metadata": {},
   "outputs": [
    {
     "name": "stdout",
     "output_type": "stream",
     "text": [
      "Extraction complete.\n"
     ]
    }
   ],
   "source": [
    "import zipfile\n",
    "\n",
    "zip_file_path = r'files_1.zip'\n",
    "\n",
    "extract_path = 'unzip'\n",
    "\n",
    "with zipfile.ZipFile(zip_file_path, 'r') as zip_ref:\n",
    "    zip_ref.extractall(extract_path)\n",
    "\n",
    "print('Extraction complete.')"
   ]
  },
  {
   "cell_type": "code",
   "execution_count": null,
   "metadata": {},
   "outputs": [],
   "source": [
    "import os\n",
    "import zipfile\n",
    "\n",
    "zip_folder = r'zip_folder'  # Folder containing zip files\n",
    "extract_base_path = 'unzip'  # Base path where all files will be extracted\n",
    "\n",
    "os.makedirs(extract_base_path, exist_ok=True)\n",
    "\n",
    "for zip_filename in os.listdir(zip_folder):\n",
    "    if zip_filename.endswith('.zip'):\n",
    "        zip_file_path = os.path.join(zip_folder, zip_filename)\n",
    "        extract_path = os.path.join(extract_base_path, os.path.splitext(zip_filename)[0])\n",
    "\n",
    "        os.makedirs(extract_path, exist_ok=True)\n",
    "\n",
    "        with zipfile.ZipFile(zip_file_path, 'r') as zip_ref:\n",
    "            zip_ref.extractall(extract_path)\n",
    "        \n",
    "        print(f'Extraction of {zip_filename} complete to {extract_path}.')\n",
    "\n",
    "print('All extractions complete.')\n"
   ]
  }
 ],
 "metadata": {
  "kernelspec": {
   "display_name": ".venv",
   "language": "python",
   "name": "python3"
  },
  "language_info": {
   "codemirror_mode": {
    "name": "ipython",
    "version": 3
   },
   "file_extension": ".py",
   "mimetype": "text/x-python",
   "name": "python",
   "nbconvert_exporter": "python",
   "pygments_lexer": "ipython3",
   "version": "3.10.9"
  }
 },
 "nbformat": 4,
 "nbformat_minor": 2
}
