{
 "cells": [
  {
   "cell_type": "code",
   "execution_count": 12,
   "metadata": {},
   "outputs": [
    {
     "name": "stdout",
     "output_type": "stream",
     "text": [
      "Zipped 40 files to zip_folder\\related2pyt.zip\n",
      "Processed all files and created zip files in zip_folder\n"
     ]
    }
   ],
   "source": [
    "import os\n",
    "import zipfile\n",
    "import json\n",
    "\n",
    "source_folder = r'restructured_data'  \n",
    "zip_folder = r'zip_folder'            \n",
    "json_file_path = r'related2pyt.json'        \n",
    "os.makedirs(zip_folder, exist_ok=True)\n",
    "\n",
    "def create_zip(zip_number, file_list):\n",
    "    zip_file_path = os.path.join(zip_folder, f'related2pyt.zip')\n",
    "    with zipfile.ZipFile(zip_file_path, 'w') as zipf:\n",
    "        for file_path in file_list:\n",
    "            zipf.write(file_path, os.path.basename(file_path))\n",
    "    print(f\"Zipped {len(file_list)} files to {zip_file_path}\")\n",
    "\n",
    "with open(json_file_path, 'r', encoding='utf-8') as file:\n",
    "    file_data = json.load(file)\n",
    "\n",
    "file_names = list(file_data.keys())\n",
    "\n",
    "file_list = []\n",
    "zip_number = 1\n",
    "for i, file_name in enumerate(file_names):\n",
    "    file_path = os.path.join(source_folder, file_name)\n",
    "    if os.path.isfile(file_path):\n",
    "        file_list.append(file_path)\n",
    "    else:\n",
    "        print(f\"File not found: {file_path}\")\n",
    "    \n",
    "    if (i + 1) % 1000 == 0 or (i + 1) == len(file_names):\n",
    "        create_zip(zip_number, file_list)\n",
    "        file_list = []\n",
    "        zip_number += 1\n",
    "\n",
    "print(f\"Processed all files and created zip files in {zip_folder}\")\n"
   ]
  }
 ],
 "metadata": {
  "kernelspec": {
   "display_name": ".venv",
   "language": "python",
   "name": "python3"
  },
  "language_info": {
   "codemirror_mode": {
    "name": "ipython",
    "version": 3
   },
   "file_extension": ".py",
   "mimetype": "text/x-python",
   "name": "python",
   "nbconvert_exporter": "python",
   "pygments_lexer": "ipython3",
   "version": "3.10.9"
  }
 },
 "nbformat": 4,
 "nbformat_minor": 2
}
